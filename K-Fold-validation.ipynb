{
 "cells": [
  {
   "cell_type": "code",
   "execution_count": 2,
   "id": "5e680e65",
   "metadata": {},
   "outputs": [
    {
     "name": "stdout",
     "output_type": "stream",
     "text": [
      "Train: [0.3 0.4 0.5 0.6 0.7 0.8] Test [0.1 0.2]\n",
      "Train: [0.1 0.2 0.5 0.6 0.7 0.8] Test [0.3 0.4]\n",
      "Train: [0.1 0.2 0.3 0.4 0.7 0.8] Test [0.5 0.6]\n",
      "Train: [0.1 0.2 0.3 0.4 0.5 0.6] Test [0.7 0.8]\n"
     ]
    }
   ],
   "source": [
    "# k-fold validation\n",
    "import numpy as np\n",
    "from sklearn.model_selection import KFold\n",
    "\n",
    "X = np.array([0.1, 0.2, 0.3, 0.4, 0.5, 0.6, 0.7, 0.8])\n",
    "Y = np.array([1, 2, 3, 4, 5, 6, 7, 8])\n",
    "\n",
    "kf = KFold(n_splits=4)\n",
    "\n",
    "for train_index, validation_index in kf.split(X):\n",
    "    print(\"Train:\", X[train_index], \"Test\", X[validation_index])"
   ]
  },
  {
   "cell_type": "code",
   "execution_count": 14,
   "id": "feb701fc",
   "metadata": {},
   "outputs": [
    {
     "name": "stderr",
     "output_type": "stream",
     "text": [
      "C:\\Users\\Ashutosh\\AppData\\Local\\Programs\\Python\\Python311\\Lib\\site-packages\\sklearn\\neural_network\\_multilayer_perceptron.py:536: ConvergenceWarning: lbfgs failed to converge (status=1):\n",
      "STOP: TOTAL NO. of ITERATIONS REACHED LIMIT.\n",
      "\n",
      "Increase the number of iterations (max_iter) or scale the data as shown in:\n",
      "    https://scikit-learn.org/stable/modules/preprocessing.html\n",
      "  self.n_iter_ = _check_optimize_result(\"lbfgs\", opt_res, self.max_iter)\n"
     ]
    },
    {
     "name": "stdout",
     "output_type": "stream",
     "text": [
      "Cross validation scores [0.97368421 0.89473684 0.91891892 1.        ]\n",
      "Average accuracy 0.9468349928876245\n"
     ]
    },
    {
     "name": "stderr",
     "output_type": "stream",
     "text": [
      "C:\\Users\\Ashutosh\\AppData\\Local\\Programs\\Python\\Python311\\Lib\\site-packages\\sklearn\\neural_network\\_multilayer_perceptron.py:536: ConvergenceWarning: lbfgs failed to converge (status=1):\n",
      "STOP: TOTAL NO. of ITERATIONS REACHED LIMIT.\n",
      "\n",
      "Increase the number of iterations (max_iter) or scale the data as shown in:\n",
      "    https://scikit-learn.org/stable/modules/preprocessing.html\n",
      "  self.n_iter_ = _check_optimize_result(\"lbfgs\", opt_res, self.max_iter)\n"
     ]
    }
   ],
   "source": [
    "from sklearn import decomposition\n",
    "from sklearn import datasets\n",
    "from sklearn.neural_network import MLPClassifier\n",
    "from sklearn.model_selection import train_test_split\n",
    "from sklearn.model_selection import cross_val_score\n",
    "\n",
    "iris = datasets.load_iris()\n",
    "X = iris.data\n",
    "Y = iris.target\n",
    "\n",
    "# split into a training and testing set\n",
    "X_train, X_test, y_train, y_test = train_test_split(X, Y, test_size=0.2)\n",
    "\n",
    "# PCA\n",
    "nof_pca = 2\n",
    "pca = decomposition.PCA(n_components=nof_pca, svd_solver='full').fit(X_train)\n",
    "\n",
    "# applies PCA \n",
    "X_train_pca = pca.transform(X_train)\n",
    "X_test_pca = pca.transform(X_test)\n",
    "\n",
    "nohn = 50 # no of hidden nodes\n",
    "\n",
    "clf = MLPClassifier(hidden_layer_sizes=(nohn,),\n",
    "                   solver='lbfgs', # adam, sgd, lbfgs\n",
    "                   activation='logistic', # tanh, relu,identity, logistic\n",
    "                   batch_size=8,\n",
    "                   verbose=False,\n",
    "                   early_stopping=True).fit(X_train_pca, y_train)\n",
    "\n",
    "y_pred = clf.predict(X_test_pca)\n",
    "\n",
    "cross_val_result = cross_val_score(clf, X, Y, cv=4)\n",
    "\n",
    "print(\"Cross validation scores\", cross_val_result)\n",
    "print(\"Average accuracy\", np.mean(cross_val_result))"
   ]
  },
  {
   "cell_type": "code",
   "execution_count": null,
   "id": "51184565",
   "metadata": {},
   "outputs": [],
   "source": []
  }
 ],
 "metadata": {
  "kernelspec": {
   "display_name": "Python 3 (ipykernel)",
   "language": "python",
   "name": "python3"
  },
  "language_info": {
   "codemirror_mode": {
    "name": "ipython",
    "version": 3
   },
   "file_extension": ".py",
   "mimetype": "text/x-python",
   "name": "python",
   "nbconvert_exporter": "python",
   "pygments_lexer": "ipython3",
   "version": "3.11.0"
  }
 },
 "nbformat": 4,
 "nbformat_minor": 5
}
