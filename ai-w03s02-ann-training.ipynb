{
 "cells": [
  {
   "cell_type": "markdown",
   "id": "aa69d1b2",
   "metadata": {},
   "source": [
    "# ANN foundations\n",
    "## Perceptron training using error-corrective learning"
   ]
  },
  {
   "cell_type": "code",
   "execution_count": 1,
   "id": "56be3ef4",
   "metadata": {},
   "outputs": [],
   "source": [
    "import numpy as np"
   ]
  },
  {
   "cell_type": "markdown",
   "id": "d3d4d6d2",
   "metadata": {},
   "source": [
    "### Functional output of a perception\n",
    "$$ y = \\sum{x_i.w_i} $$"
   ]
  },
  {
   "cell_type": "code",
   "execution_count": 2,
   "id": "11c39959",
   "metadata": {},
   "outputs": [],
   "source": [
    "# output functions\n",
    "def functional_output(inputs, weights):\n",
    "    return np.dot(inputs, weights)"
   ]
  },
  {
   "cell_type": "code",
   "execution_count": 3,
   "id": "e542284e",
   "metadata": {},
   "outputs": [
    {
     "data": {
      "text/plain": [
       "11"
      ]
     },
     "execution_count": 3,
     "metadata": {},
     "output_type": "execute_result"
    }
   ],
   "source": [
    "functional_output([1, 2], [3, 4])"
   ]
  },
  {
   "cell_type": "code",
   "execution_count": 4,
   "id": "a53a766a",
   "metadata": {},
   "outputs": [],
   "source": [
    "# activational output\n",
    "\n",
    "def activation_function(output, threshold):\n",
    "    if output >= threshold:\n",
    "        return 1\n",
    "    else:\n",
    "        return 0"
   ]
  },
  {
   "cell_type": "code",
   "execution_count": 5,
   "id": "5766243d",
   "metadata": {},
   "outputs": [
    {
     "data": {
      "text/plain": [
       "0"
      ]
     },
     "execution_count": 5,
     "metadata": {},
     "output_type": "execute_result"
    }
   ],
   "source": [
    "activation_function(-1, 1)"
   ]
  },
  {
   "cell_type": "markdown",
   "id": "8a73f572",
   "metadata": {},
   "source": [
    "$$e = g- f$$"
   ]
  },
  {
   "cell_type": "code",
   "execution_count": 6,
   "id": "eb6b55b4",
   "metadata": {},
   "outputs": [],
   "source": [
    "def error(activation, expected):\n",
    "    assert len(activation) == len(expected), 'Dimension do not match'\n",
    "    return np.subtract(expected, activation)"
   ]
  },
  {
   "cell_type": "code",
   "execution_count": 7,
   "id": "a820bc12",
   "metadata": {},
   "outputs": [
    {
     "data": {
      "text/plain": [
       "array([-2, -1])"
      ]
     },
     "execution_count": 7,
     "metadata": {},
     "output_type": "execute_result"
    }
   ],
   "source": [
    "error([3, 2], [1, 1])"
   ]
  },
  {
   "cell_type": "code",
   "execution_count": 8,
   "id": "e67b29c5",
   "metadata": {},
   "outputs": [],
   "source": [
    "def update_weights(x, error, learning_rate):\n",
    "    return x * error * learning_rate"
   ]
  },
  {
   "cell_type": "code",
   "execution_count": 9,
   "id": "dcae0fbb",
   "metadata": {},
   "outputs": [],
   "source": [
    "update = update_weights(1, 2, 1)"
   ]
  },
  {
   "cell_type": "code",
   "execution_count": 10,
   "id": "a76d1ed3",
   "metadata": {},
   "outputs": [
    {
     "data": {
      "text/plain": [
       "2"
      ]
     },
     "execution_count": 10,
     "metadata": {},
     "output_type": "execute_result"
    }
   ],
   "source": [
    "update"
   ]
  },
  {
   "cell_type": "code",
   "execution_count": 29,
   "id": "db70f990",
   "metadata": {},
   "outputs": [],
   "source": [
    "class SimpleNN:\n",
    "    training_data = np.array([[-1, 1, 1, 1],\n",
    "                             [-1, 1, 0, 0],\n",
    "                             [-1, 0, 1, 0],\n",
    "                             [-1, 0, 0, 0]])\n",
    "    \n",
    "    weights = np.array([0, 1, -1])\n",
    "    \n",
    "    learning_rate = 1\n",
    "    \n",
    "    threshold = 1\n",
    "    \n",
    "    input_data = training_data[:, [0, 1, 2]]\n",
    "    \n",
    "    desired_output = training_data[:, [3]].T[0]\n",
    "    "
   ]
  },
  {
   "cell_type": "code",
   "execution_count": 30,
   "id": "fe25afcc",
   "metadata": {},
   "outputs": [
    {
     "name": "stdout",
     "output_type": "stream",
     "text": [
      "Training Data [[-1  1  1  1]\n",
      " [-1  1  0  0]\n",
      " [-1  0  1  0]\n",
      " [-1  0  0  0]]\n",
      "Weights [ 0  1 -1]\n",
      "Learning rate 1\n",
      "Threshold 1\n",
      "Input Data [[-1  1  1]\n",
      " [-1  1  0]\n",
      " [-1  0  1]\n",
      " [-1  0  0]]\n",
      "Desired Output [1 0 0 0]\n"
     ]
    }
   ],
   "source": [
    "snn = SimpleNN()\n",
    "\n",
    "print(\"Training Data\", snn.training_data)\n",
    "print(\"Weights\", snn.weights)\n",
    "print(\"Learning rate\", snn.learning_rate)\n",
    "print(\"Threshold\", snn.threshold)\n",
    "print(\"Input Data\", snn.input_data)\n",
    "print(\"Desired Output\", snn.desired_output)"
   ]
  },
  {
   "cell_type": "code",
   "execution_count": 31,
   "id": "be8f7380",
   "metadata": {},
   "outputs": [
    {
     "name": "stdout",
     "output_type": "stream",
     "text": [
      "[ 0  1 -1  0]\n"
     ]
    }
   ],
   "source": [
    "y = np.array(functional_output(snn.input_data, snn.weights))\n",
    "print(y)"
   ]
  },
  {
   "cell_type": "code",
   "execution_count": 32,
   "id": "780e96ac",
   "metadata": {},
   "outputs": [
    {
     "name": "stdout",
     "output_type": "stream",
     "text": [
      "[0 1 0 0]\n"
     ]
    }
   ],
   "source": [
    "fy = np.array([activation_function(o, snn.threshold) for o in y])\n",
    "print(fy)"
   ]
  },
  {
   "cell_type": "code",
   "execution_count": 33,
   "id": "ce372891",
   "metadata": {},
   "outputs": [
    {
     "name": "stdout",
     "output_type": "stream",
     "text": [
      "[ 1 -1  0  0]\n"
     ]
    }
   ],
   "source": [
    "err = error(fy, snn.desired_output)\n",
    "print(err)"
   ]
  },
  {
   "cell_type": "code",
   "execution_count": 34,
   "id": "8d0c54a7",
   "metadata": {},
   "outputs": [
    {
     "name": "stdout",
     "output_type": "stream",
     "text": [
      "Epoch 0.0\n",
      "weights     input     desired_output     actual_output     error     new_weight\n",
      "[ 0  1 -1] \t [-1  1  1] \t 1 \t\t\t 0 \t\t 1 \t [ 0  1 -1] update weights\n",
      "[-1  2  0] \t [-1  1  0] \t 0 \t\t\t 1 \t\t -1 \t [-1  2  0] update weights\n",
      "[0 1 0] \t [-1  0  1] \t 0 \t\t\t 0 \t\t 0 \t [0 1 0] no change\n",
      "[0 1 0] \t [-1  0  0] \t 0 \t\t\t 0 \t\t 0 \t [0 1 0] no change\n",
      "Epoch 1.0\n",
      "weights     input     desired_output     actual_output     error     new_weight\n",
      "[0 1 0] \t [-1  1  1] \t 1 \t\t\t 1 \t\t 0 \t [0 1 0] no change\n",
      "[0 1 0] \t [-1  1  0] \t 0 \t\t\t 1 \t\t -1 \t [0 1 0] update weights\n",
      "[1 0 0] \t [-1  0  1] \t 0 \t\t\t 0 \t\t 0 \t [1 0 0] no change\n",
      "[1 0 0] \t [-1  0  0] \t 0 \t\t\t 0 \t\t 0 \t [1 0 0] no change\n",
      "Epoch 2.0\n",
      "weights     input     desired_output     actual_output     error     new_weight\n",
      "[1 0 0] \t [-1  1  1] \t 1 \t\t\t 0 \t\t 1 \t [1 0 0] update weights\n",
      "[0 1 1] \t [-1  1  0] \t 0 \t\t\t 1 \t\t -1 \t [0 1 1] update weights\n",
      "[1 0 1] \t [-1  0  1] \t 0 \t\t\t 0 \t\t 0 \t [1 0 1] no change\n",
      "[1 0 1] \t [-1  0  0] \t 0 \t\t\t 0 \t\t 0 \t [1 0 1] no change\n",
      "Epoch 3.0\n",
      "weights     input     desired_output     actual_output     error     new_weight\n",
      "[1 0 1] \t [-1  1  1] \t 1 \t\t\t 0 \t\t 1 \t [1 0 1] update weights\n",
      "[0 1 2] \t [-1  1  0] \t 0 \t\t\t 1 \t\t -1 \t [0 1 2] update weights\n",
      "[1 0 2] \t [-1  0  1] \t 0 \t\t\t 1 \t\t -1 \t [1 0 2] update weights\n",
      "[2 0 1] \t [-1  0  0] \t 0 \t\t\t 0 \t\t 0 \t [2 0 1] no change\n",
      "Epoch 4.0\n",
      "weights     input     desired_output     actual_output     error     new_weight\n",
      "[2 0 1] \t [-1  1  1] \t 1 \t\t\t 0 \t\t 1 \t [2 0 1] update weights\n",
      "[1 1 2] \t [-1  1  0] \t 0 \t\t\t 0 \t\t 0 \t [1 1 2] no change\n",
      "[1 1 2] \t [-1  0  1] \t 0 \t\t\t 1 \t\t -1 \t [1 1 2] update weights\n",
      "[2 1 1] \t [-1  0  0] \t 0 \t\t\t 0 \t\t 0 \t [2 1 1] no change\n",
      "Epoch 5.0\n",
      "weights     input     desired_output     actual_output     error     new_weight\n",
      "[2 1 1] \t [-1  1  1] \t 1 \t\t\t 0 \t\t 1 \t [2 1 1] update weights\n",
      "[1 2 2] \t [-1  1  0] \t 0 \t\t\t 1 \t\t -1 \t [1 2 2] update weights\n",
      "[2 1 2] \t [-1  0  1] \t 0 \t\t\t 0 \t\t 0 \t [2 1 2] no change\n",
      "[2 1 2] \t [-1  0  0] \t 0 \t\t\t 0 \t\t 0 \t [2 1 2] no change\n",
      "Input data [[-1  1  1]\n",
      " [-1  1  0]\n",
      " [-1  0  1]\n",
      " [-1  0  0]]\n",
      "Desired output [1 0 0 0]\n",
      "Weights [2 1 2]\n",
      "Actual output [1 0 0 0]\n",
      "Error [0 0 0 0]\n"
     ]
    }
   ],
   "source": [
    "# algorithm for training using error-corrective learning\n",
    "\n",
    "w = snn.weights\n",
    "\n",
    "counter = 0\n",
    "\n",
    "while not np.array_equal(snn.desired_output, fy):\n",
    "    print(\"Epoch\", np.round(counter/4))\n",
    "    \n",
    "    print(\"weights     input     desired_output     actual_output     error     new_weight\")\n",
    "    \n",
    "    for x in snn.input_data:\n",
    "        \n",
    "        y = np.array(functional_output(snn.input_data, w))\n",
    "        \n",
    "        fy = np.array([activation_function(o, snn.threshold) for o in y])\n",
    "        \n",
    "        err = error(fy, snn.desired_output)\n",
    "        \n",
    "        if(err[counter%4] == 0):\n",
    "            print(w, \"\\t\", x, \"\\t\", snn.desired_output[counter%4], \"\\t\\t\\t\", fy[counter%4],\n",
    "                 \"\\t\\t\", err[counter%4], \"\\t\", w, \"no change\")\n",
    "        else:\n",
    "            print(w, \"\\t\", x, \"\\t\", snn.desired_output[counter%4], \"\\t\\t\\t\", fy[counter%4],\n",
    "                 \"\\t\\t\", err[counter%4], \"\\t\", w, \"update weights\")\n",
    "            w = w + update_weights(snn.input_data[counter%4],\n",
    "                                  err[counter%4], snn.learning_rate)\n",
    "        counter += 1\n",
    "        \n",
    "print(\"Input data\", snn.input_data)\n",
    "print(\"Desired output\", snn.desired_output)\n",
    "print(\"Weights\", w)\n",
    "y = np.array(functional_output(snn.input_data, w))\n",
    "fy = np.array([activation_function(o, snn.threshold) for o in y])\n",
    "print(\"Actual output\", fy)\n",
    "err = error(fy, snn.desired_output)\n",
    "print(\"Error\", err)"
   ]
  },
  {
   "cell_type": "code",
   "execution_count": null,
   "id": "99b81aac",
   "metadata": {},
   "outputs": [],
   "source": []
  }
 ],
 "metadata": {
  "kernelspec": {
   "display_name": "Python 3 (ipykernel)",
   "language": "python",
   "name": "python3"
  },
  "language_info": {
   "codemirror_mode": {
    "name": "ipython",
    "version": 3
   },
   "file_extension": ".py",
   "mimetype": "text/x-python",
   "name": "python",
   "nbconvert_exporter": "python",
   "pygments_lexer": "ipython3",
   "version": "3.11.0"
  }
 },
 "nbformat": 4,
 "nbformat_minor": 5
}
